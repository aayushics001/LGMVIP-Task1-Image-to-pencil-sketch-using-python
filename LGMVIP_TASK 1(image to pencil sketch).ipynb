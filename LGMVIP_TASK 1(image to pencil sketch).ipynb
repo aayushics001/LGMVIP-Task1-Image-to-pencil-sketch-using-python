{
 "cells": [
  {
   "cell_type": "markdown",
   "id": "ea6bae55",
   "metadata": {},
   "source": [
    "\n",
    "## LGMVIP Task 1"
   ]
  },
  {
   "cell_type": "markdown",
   "id": "3b6c1952",
   "metadata": {},
   "source": [
    "## Importing openCV library"
   ]
  },
  {
   "cell_type": "code",
   "execution_count": 1,
   "id": "f231ffd5",
   "metadata": {},
   "outputs": [],
   "source": [
    "import cv2"
   ]
  },
  {
   "cell_type": "markdown",
   "id": "744a5fb5",
   "metadata": {},
   "source": [
    "## Read the image"
   ]
  },
  {
   "cell_type": "code",
   "execution_count": 2,
   "id": "d3f6f37b",
   "metadata": {},
   "outputs": [
    {
     "data": {
      "text/plain": [
       "-1"
      ]
     },
     "execution_count": 2,
     "metadata": {},
     "output_type": "execute_result"
    }
   ],
   "source": [
    "\n",
    "\n",
    "image = cv2.imread(\"C:\\\\Users\\\\asus\\\\Downloads\\\\to day.jpg\")\n",
    "cv2.imshow(\"image\", image)\n",
    "cv2.waitKey(0)\n",
    "\n"
   ]
  },
  {
   "cell_type": "markdown",
   "id": "ffb11c07",
   "metadata": {},
   "source": [
    "## Conversion of original image to grayscale"
   ]
  },
  {
   "cell_type": "code",
   "execution_count": 3,
   "id": "81bc5b0f",
   "metadata": {},
   "outputs": [
    {
     "data": {
      "text/plain": [
       "-1"
      ]
     },
     "execution_count": 3,
     "metadata": {},
     "output_type": "execute_result"
    }
   ],
   "source": [
    "\n",
    "\n",
    "gray_image = cv2.cvtColor(image, cv2.COLOR_BGR2GRAY)\n",
    "cv2.imshow(\"New image\", gray_image)\n",
    "cv2.waitKey(0)\n",
    "\n"
   ]
  },
  {
   "cell_type": "markdown",
   "id": "1555ea06",
   "metadata": {},
   "source": [
    "## Conversion of grayscale to inverted image"
   ]
  },
  {
   "cell_type": "code",
   "execution_count": 4,
   "id": "49bf7fd8",
   "metadata": {},
   "outputs": [
    {
     "data": {
      "text/plain": [
       "-1"
      ]
     },
     "execution_count": 4,
     "metadata": {},
     "output_type": "execute_result"
    }
   ],
   "source": [
    "\n",
    "\n",
    "inverted_image = 255 - gray_image\n",
    "cv2.imshow(\"Inverted\", inverted_image)\n",
    "cv2.waitKey(0)\n",
    "\n"
   ]
  },
  {
   "cell_type": "markdown",
   "id": "531c69c8",
   "metadata": {},
   "source": [
    "## Blur the image by using the Gaussian Function in OpenCV"
   ]
  },
  {
   "cell_type": "code",
   "execution_count": 5,
   "id": "3c0d38d4",
   "metadata": {},
   "outputs": [],
   "source": [
    "blurred = cv2.GaussianBlur(inverted_image, (21, 21), 0)"
   ]
  },
  {
   "cell_type": "markdown",
   "id": "af8c3222",
   "metadata": {},
   "source": [
    "## Inversion of Blurred image"
   ]
  },
  {
   "cell_type": "code",
   "execution_count": 6,
   "id": "33d1c1c1",
   "metadata": {},
   "outputs": [],
   "source": [
    "inverted_blurred = 255 - blurred"
   ]
  },
  {
   "cell_type": "markdown",
   "id": "c47f7088",
   "metadata": {},
   "source": [
    "## Pencil sketch"
   ]
  },
  {
   "cell_type": "code",
   "execution_count": 7,
   "id": "32ca1ab3",
   "metadata": {},
   "outputs": [
    {
     "data": {
      "text/plain": [
       "-1"
      ]
     },
     "execution_count": 7,
     "metadata": {},
     "output_type": "execute_result"
    }
   ],
   "source": [
    "Pencil_sketch = cv2.divide(gray_image, inverted_blurred, scale=256.0)\n",
    "cv2.imshow(\"Pencil Sketch\", Pencil_sketch)\n",
    "cv2.waitKey(0)"
   ]
  },
  {
   "cell_type": "markdown",
   "id": "ccc2edea",
   "metadata": {},
   "source": [
    "## Comparison of Pencil sketch with original image"
   ]
  },
  {
   "cell_type": "code",
   "execution_count": 8,
   "id": "8805fa7a",
   "metadata": {},
   "outputs": [
    {
     "data": {
      "text/plain": [
       "-1"
      ]
     },
     "execution_count": 8,
     "metadata": {},
     "output_type": "execute_result"
    }
   ],
   "source": [
    "cv2.imshow(\"original image\", image)\n",
    "cv2.imshow(\"Pencil sketch\", Pencil_sketch)\n",
    "cv2.waitKey(0)"
   ]
  },
  {
   "cell_type": "markdown",
   "id": "770ea1b4",
   "metadata": {},
   "source": [
    "# THANK YOU !!"
   ]
  },
  {
   "cell_type": "code",
   "execution_count": null,
   "id": "5ea041d8",
   "metadata": {},
   "outputs": [],
   "source": []
  }
 ],
 "metadata": {
  "kernelspec": {
   "display_name": "Python 3 (ipykernel)",
   "language": "python",
   "name": "python3"
  },
  "language_info": {
   "codemirror_mode": {
    "name": "ipython",
    "version": 3
   },
   "file_extension": ".py",
   "mimetype": "text/x-python",
   "name": "python",
   "nbconvert_exporter": "python",
   "pygments_lexer": "ipython3",
   "version": "3.9.5"
  }
 },
 "nbformat": 4,
 "nbformat_minor": 5
}
